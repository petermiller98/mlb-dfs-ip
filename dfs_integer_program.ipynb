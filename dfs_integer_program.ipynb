{
 "cells": [
  {
   "cell_type": "markdown",
   "metadata": {},
   "source": [
    "# Daily Fantasy Baseball Integer Program"
   ]
  },
  {
   "cell_type": "code",
   "execution_count": 1,
   "metadata": {},
   "outputs": [
    {
     "name": "stdout",
     "output_type": "stream",
     "text": [
      "Using license file /Users/petermiller/gurobi.lic\n",
      "Academic license - for non-commercial use only\n",
      "No parameters matching '_test' found\n"
     ]
    }
   ],
   "source": [
    "import numpy as np\n",
    "import pandas as pd\n",
    "from pulp import *"
   ]
  },
  {
   "cell_type": "markdown",
   "metadata": {},
   "source": [
    "### Data Cleaning Functions"
   ]
  },
  {
   "cell_type": "code",
   "execution_count": 2,
   "metadata": {},
   "outputs": [],
   "source": [
    "def read_players(path_to_pitchers, path_to_hitters):\n",
    "    \"\"\"Clean and combine PATH_TO_PITCHERS and PATH_TO_HITTERS \n",
    "        tables from Daily Fantasy Nerd\"\"\"\n",
    "    pitchers = pd.read_csv(path_to_pitchers)\n",
    "    pitchers = pitchers.reindex(columns=['Player Name', 'Pos', 'Salary',\n",
    "                                         'Team', 'Opp', 'Proj FP'])\n",
    "    hitters = pd.read_csv(path_to_hitters)\n",
    "    hitters = hitters.reindex(columns=['Player Name', 'Pos', 'Salary',\n",
    "                                       'Team', 'Opp', 'Proj FP'])\n",
    "    pitchers = pitchers.rename(columns={'Player Name': 'Name','Pos' : 'Position'})\n",
    "    hitters = hitters.rename(columns={'Player Name': 'Name','Pos' : 'Position'})\n",
    "    data = pd.concat([pitchers, hitters])\n",
    "    data['Opp'] = data['Opp'].str.replace('@', '')\n",
    "    return data"
   ]
  },
  {
   "cell_type": "code",
   "execution_count": 3,
   "metadata": {},
   "outputs": [],
   "source": [
    "def remove_players(data, names):\n",
    "    \"\"\"Remove players in list NAMES from DF\"\"\"\n",
    "    data = data.copy(deep=True)\n",
    "    for name in names:\n",
    "        data = data[data['Name'] != name]\n",
    "    data = data.reset_index()\n",
    "    data = data.drop('index', axis=1)\n",
    "    return data"
   ]
  },
  {
   "cell_type": "code",
   "execution_count": 4,
   "metadata": {},
   "outputs": [],
   "source": [
    "def remove_teams(data, teams):\n",
    "    \"\"\"Remove TEAMS from DATA\"\"\"\n",
    "    data = data.copy(deep=True)\n",
    "    for team in teams:\n",
    "        data = data[data['Team'] != team]\n",
    "    data = data.reset_index()\n",
    "    data = data.drop('index', axis=1)\n",
    "    return data"
   ]
  },
  {
   "cell_type": "code",
   "execution_count": 5,
   "metadata": {},
   "outputs": [],
   "source": [
    "def encode_position(data):\n",
    "    \"\"\"One Hot Encode Position from DATA\n",
    "        and add columns to DATA\"\"\"\n",
    "    data = data.copy(deep=True)\n",
    "    P = np.zeros(data.shape[0], dtype=int)\n",
    "    B1 = np.zeros(data.shape[0], dtype=int)\n",
    "    B2 = np.zeros(data.shape[0], dtype=int)\n",
    "    B3 = np.zeros(data.shape[0], dtype=int)\n",
    "    C = np.zeros(data.shape[0], dtype=int)\n",
    "    SS = np.zeros(data.shape[0], dtype=int)\n",
    "    OF = np.zeros(data.shape[0], dtype=int)\n",
    "    \n",
    "    for i in range(data.shape[0]):\n",
    "        if data.iloc[i, 1].find('SP') != -1:\n",
    "            np.put(P, i, 1) \n",
    "        if data.iloc[i, 1].find('RP') != -1:\n",
    "            np.put(P, i, 1)\n",
    "        if data.iloc[i, 1].find('1B') != -1:\n",
    "            np.put(B1, i, 1)\n",
    "        if data.iloc[i, 1].find('2B') != -1:\n",
    "            np.put(B2, i, 1)\n",
    "        if data.iloc[i, 1].find('3B') != -1:\n",
    "            np.put(B3, i, 1)\n",
    "        if data.iloc[i, 1].find('C') != -1:\n",
    "            np.put(C, i, 1)\n",
    "        if data.iloc[i, 1].find('SS') != -1:\n",
    "            np.put(SS, i, 1)\n",
    "        if data.iloc[i, 1].find('OF') != -1:\n",
    "            np.put(OF, i, 1)\n",
    "    \n",
    "    data['P'] = P\n",
    "    data['1B'] = B1\n",
    "    data['2B'] = B2\n",
    "    data['3B'] = B3\n",
    "    data['C'] = C\n",
    "    data['SS'] = SS\n",
    "    data['OF'] = OF\n",
    "    return data"
   ]
  },
  {
   "cell_type": "code",
   "execution_count": 6,
   "metadata": {},
   "outputs": [],
   "source": [
    "def encode_team(data):\n",
    "    \"\"\"One Hot Encodes Team column in DATA\"\"\"\n",
    "    data = data.copy(deep=True)\n",
    "    one_hot1 = pd.get_dummies(data['Team'], prefix='Team')\n",
    "    data = pd.concat([data, one_hot1], axis= 1).reindex(data.index)\n",
    "    one_hot2 = pd.get_dummies(data['Opp'], prefix='Opp')\n",
    "    data = pd.concat([data, one_hot2], axis= 1).reindex(data.index)\n",
    "    return data"
   ]
  },
  {
   "cell_type": "markdown",
   "metadata": {},
   "source": [
    "### Integer Program Functions"
   ]
  },
  {
   "cell_type": "code",
   "execution_count": 7,
   "metadata": {},
   "outputs": [],
   "source": [
    "def prepare_arguments(data, old_lineups):\n",
    "    \"\"\"Returns list of dictionaries that are arguments for generate_lineups\"\"\"\n",
    "    player = [str(i) for i in range(data.shape[0])]\n",
    "    point = {str(i): data['Proj FP'][i] for i in range(data.shape[0])} \n",
    "    cost = {str(i): data['Salary'][i] for i in range(data.shape[0])}\n",
    "    P = {str(i): data['P'][i] for i in range(data.shape[0])}\n",
    "    B1 = {str(i): data['1B'][i] for i in range(data.shape[0])}\n",
    "    B2 = {str(i): data['2B'][i] for i in range(data.shape[0])}\n",
    "    B3 = {str(i): data['3B'][i] for i in range(data.shape[0])}\n",
    "    C = {str(i): data['C'][i] for i in range(data.shape[0])}\n",
    "    SS = {str(i): data['SS'][i] for i in range(data.shape[0])}\n",
    "    OF = {str(i): data['OF'][i] for i in range(data.shape[0])}\n",
    "    return [player, point, cost, P, B1, B2, B3, C, SS, OF, old_lineups]"
   ]
  },
  {
   "cell_type": "code",
   "execution_count": 8,
   "metadata": {},
   "outputs": [],
   "source": [
    "def create_lineup(data, player, point, cost, P, B1, B2, B3, C, SS, OF, old_lineups):\n",
    "    \"\"\"Returns list of names of optimal lineup given constraints.\"\"\"\n",
    "    # Problem Instantiation\n",
    "    prob = LpProblem(\"DFS_Baseball\", LpMaximize)\n",
    "    player_vars = LpVariable.dicts(\"Players\",player,0,1,LpBinary)\n",
    "    \n",
    "    # Postion/Cost/Overlap Constraints\n",
    "    prob += lpSum([point[i] * player_vars[i] for i in player]), \"Points\"\n",
    "    prob += lpSum([player_vars[i] for i in player]) == 10, \"10_Players\"\n",
    "    prob += lpSum([cost[i] * player_vars[i] for i in player]) <= 50000, \"Total_Cost\"\n",
    "    prob += lpSum([P[i] * player_vars[i] for i in player]) == 2, \"2Pitchers\"\n",
    "    prob += lpSum([B1[i] * player_vars[i] for i in player]) == 1, \"1B\"\n",
    "    prob += lpSum([B2[i] * player_vars[i] for i in player]) == 1, \"2B\"\n",
    "    prob += lpSum([B3[i] * player_vars[i] for i in player]) == 1, \"3B\"\n",
    "    prob += lpSum([C[i] * player_vars[i] for i in player]) == 1, \"C\"\n",
    "    prob += lpSum([SS[i] * player_vars[i] for i in player]) == 1, \"SS\"\n",
    "    prob += lpSum([OF[i] * player_vars[i] for i in player]) == 3, \"OF\"\n",
    "    prob += lpSum([old_lineups.get(str(i)) * player_vars.get(str(i)) \n",
    "                   for i in range(data.shape[0])]) <= 6, \"Overlap\"\n",
    "    teams = list(data['Team'].unique())\n",
    "    num_teams = len(teams)\n",
    "    \n",
    "    # Must pick 5 players from same team\n",
    "    used_5_in_team = [LpVariable(\"u{}\".format(i + 1), cat=\"Binary\") \n",
    "                      for i in range(num_teams)]\n",
    "    i = 0\n",
    "    for team in teams:\n",
    "        prob += (5 * used_5_in_team[i] <= \n",
    "             lpSum(data['Team_' + team][k] * player_vars.get(str(k))\n",
    "                   for k in range(data.shape[0])))\n",
    "        i += 1\n",
    "    prob += lpSum(used_5_in_team) >= 1\n",
    "    \n",
    "    # No pitcher vs batter constraint\n",
    "    for team in teams:\n",
    "        prob += ((8 * lpSum(P.get(str(k)) * player_vars.get(str(k)) * data['Team_' + team][k] \n",
    "                            for k in range(data.shape[0])) +\n",
    "            lpSum((1 - P.get(str(k))) * player_vars.get(str(k)) * data['Opp_' + team][k] \n",
    "                            for k in range(data.shape[0])) <= 8))\n",
    "    status = prob.solve()\n",
    "    selection = {}\n",
    "    for v in prob.variables():\n",
    "        if len(v.name.split(\"_\")) == 2:\n",
    "            index = int(v.name.split(\"_\")[1])\n",
    "            selection[index] = v.varValue\n",
    "    data['integer_programming'] = 0.0\n",
    "    for i in selection:\n",
    "        data.loc[i, 'integer_programming'] = selection[i]\n",
    "    lineup = data[data['integer_programming'] == 1.0]\n",
    "    indexes = list(data.index[data['integer_programming'] == 1.0])\n",
    "    for idx in indexes:\n",
    "        old_lineups[str(idx)] = 1\n",
    "    lineup = data[data['integer_programming'] == 1.0]\n",
    "    total_points = lineup['Proj FP'].sum()\n",
    "    total_cost = lineup['Salary'].sum()\n",
    "    total_players = lineup.shape[0]\n",
    "    print(\"Total points: {}\\nCost: ${}\\nNumber of players: {}\"\n",
    "          .format(total_points, total_cost, total_players))\n",
    "    return [lineup['Name'], old_lineups]"
   ]
  },
  {
   "cell_type": "code",
   "execution_count": 13,
   "metadata": {},
   "outputs": [],
   "source": [
    "glob_players = set()\n",
    "def create_multiple_lineups(data, num_lineups):\n",
    "    \"\"\"Prints NUM_LINEUPS lineups given DATA\"\"\"\n",
    "    old_lineups = {str(i): 0 for i in range(data.shape[0])}\n",
    "    for j in range(num_lineups):\n",
    "        dicts = prepare_arguments(data, old_lineups)\n",
    "        optimal_lineup, old_lineups = create_lineup(data, dicts[0], dicts[1], dicts[2], \n",
    "                     dicts[3], dicts[4], dicts[5], \n",
    "                     dicts[6], dicts[7], dicts[8], dicts[9], dicts[10])\n",
    "        print('Lineup ' + str(j + 1) + ': ')\n",
    "        print('\\n')\n",
    "        for name in optimal_lineup:\n",
    "            glob_players.add(name)\n",
    "            print(name + \" \")\n",
    "        print('\\n')"
   ]
  },
  {
   "cell_type": "code",
   "execution_count": 14,
   "metadata": {},
   "outputs": [],
   "source": [
    "def optimize_multiple_lineups(path_to_pitchers, path_to_hitters, rem_players, rem_teams, num_lineups):\n",
    "    players_table = read_players(path_to_pitchers, path_to_hitters)\n",
    "    players_table = remove_teams(players_table, rem_teams)\n",
    "    players_table = remove_players(players_table, rem_players)\n",
    "    players_table = encode_position(players_table)\n",
    "    players_table = encode_team(players_table)\n",
    "    create_multiple_lineups(players_table, num_lineups)"
   ]
  },
  {
   "cell_type": "markdown",
   "metadata": {},
   "source": [
    "### edit paths, names in removal list, number of lineups -> run"
   ]
  },
  {
   "cell_type": "code",
   "execution_count": null,
   "metadata": {},
   "outputs": [],
   "source": [
    "path_to_pitchers = 'DFN_Pitchers_08082020.csv' \n",
    "path_to_hitters = 'DFN_Hitters_08082020.csv'\n",
    "rem_teams = []\n",
    "rem_names = []\n",
    "optimize_multiple_lineups(path_to_pitchers, path_to_hitters, rem_names, rem_teams, 20)"
   ]
  },
  {
   "cell_type": "code",
   "execution_count": null,
   "metadata": {},
   "outputs": [],
   "source": [
    "print(\"Number of players in lineups: {}\".format(len(glob_players)))"
   ]
  },
  {
   "cell_type": "code",
   "execution_count": null,
   "metadata": {},
   "outputs": [],
   "source": []
  }
 ],
 "metadata": {
  "kernelspec": {
   "display_name": "Python 3",
   "language": "python",
   "name": "python3"
  },
  "language_info": {
   "codemirror_mode": {
    "name": "ipython",
    "version": 3
   },
   "file_extension": ".py",
   "mimetype": "text/x-python",
   "name": "python",
   "nbconvert_exporter": "python",
   "pygments_lexer": "ipython3",
   "version": "3.7.4"
  }
 },
 "nbformat": 4,
 "nbformat_minor": 2
}
